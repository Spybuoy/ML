{
  "nbformat": 4,
  "nbformat_minor": 0,
  "metadata": {
    "colab": {
      "name": "File_Loader.ipynb",
      "provenance": [],
      "collapsed_sections": []
    },
    "kernelspec": {
      "name": "python3",
      "display_name": "Python 3"
    },
    "language_info": {
      "name": "python"
    }
  },
  "cells": [
    {
      "cell_type": "code",
      "execution_count": null,
      "metadata": {
        "id": "vHcZuVl6v96m"
      },
      "outputs": [],
      "source": [
        "import io\n",
        "import datetime\n",
        "import random as rn\n",
        "import seaborn as sns\n",
        "import numpy as np\n",
        "import pandas as pd\n",
        "import os\n",
        "import math\n",
        "import matplotlib.pyplot as plt"
      ]
    },
    {
      "cell_type": "code",
      "source": [
        "from google.colab import drive\n",
        "drive.mount('/content/drive')"
      ],
      "metadata": {
        "colab": {
          "base_uri": "https://localhost:8080/"
        },
        "id": "ufjyp01hwCf2",
        "outputId": "5325fbc3-23af-499b-e44c-fe7c5e71c403"
      },
      "execution_count": null,
      "outputs": [
        {
          "output_type": "stream",
          "name": "stdout",
          "text": [
            "Mounted at /content/drive\n"
          ]
        }
      ]
    },
    {
      "cell_type": "markdown",
      "source": [
        "make a folder 'project519' in the drive, add the Val and Train CSVs"
      ],
      "metadata": {
        "id": "ZsIgWAKj9Yep"
      }
    },
    {
      "cell_type": "code",
      "source": [
        "# path_1 = r\"/content/drive/SharedDrives/project519/MHVU_Val.csv\"\n",
        "# path_2 = r\"/content/drive/SharedDrive/project519/MHVU_Train.csv\"\n",
        "df_1 = pd.read_csv('/content/drive/Shared drives/project519/CSVs/MHVU_Val.csv')\n",
        "df_2 = pd.read_csv('/content/drive/Shared drives/project519/CSVs/MHVU_Train.csv')\n",
        "# df_1 = pd.read_csv(path_1) #10056 rows × 4 columns\n",
        "# df_2 = pd.read_csv(path_2) #129627 rows × 4 columns"
      ],
      "metadata": {
        "id": "SOiRK-owwCiW"
      },
      "execution_count": null,
      "outputs": []
    },
    {
      "cell_type": "code",
      "source": [
        "df_1['tags_list'] = np.empty((len(df_1), 0)).tolist()\n",
        "df_2['tags_list'] = np.empty((len(df_2), 0)).tolist()"
      ],
      "metadata": {
        "id": "mhyaUZ2Q1caX"
      },
      "execution_count": null,
      "outputs": []
    },
    {
      "cell_type": "code",
      "source": [
        "df_1"
      ],
      "metadata": {
        "colab": {
          "base_uri": "https://localhost:8080/",
          "height": 424
        },
        "id": "uvIlGUtDwCkU",
        "outputId": "1fd7f435-8692-4eee-ac66-86993e5273ac"
      },
      "execution_count": null,
      "outputs": [
        {
          "output_type": "execute_result",
          "data": {
            "text/plain": [
              "                                                    Tags   youtube_id  \\\n",
              "0      sport_venue|hip|joint|physical_exercise|ball_g...  -7arnYZJjKE   \n",
              "1      day|cheek|pink|blond|leg|girl|fun|human_hair_c...  54OeCiZcXQQ   \n",
              "2      fashion|event|music|playing_didgeridoo|reed_in...  L9yPCYk1Ltc   \n",
              "3      foot|water|fun|livestock|vertebrate|joint|musc...  rpyUVF9yq0g   \n",
              "4      darkness|cheek|water|arm|girl|fun|human|close_...  6hH_0IC2KlM   \n",
              "...                                                  ...          ...   \n",
              "10051  string_instrument|brand|string_instrument_acce...  lGiyiZh1JbA   \n",
              "10052  adventure|woody_plant|girl|fun|sport_climbing|...  ptOCEg3wAj0   \n",
              "10053  sport_venue|dog_breed_group|playing_badminton|...  TPKVrO6DdPw   \n",
              "10054  parkour|hardwood|pedestrian|infrastructure|leg...  MHQFIdHkza4   \n",
              "10055  reflection|bottling|paint|bottle|light|industr...  BbSdO2bXQ0M   \n",
              "\n",
              "       time_start  time_end tags_list  \n",
              "0             104       114        []  \n",
              "1              15        25        []  \n",
              "2              76        86        []  \n",
              "3               0        10        []  \n",
              "4              36        46        []  \n",
              "...           ...       ...       ...  \n",
              "10051          92       102        []  \n",
              "10052           7        17        []  \n",
              "10053          26        36        []  \n",
              "10054          34        44        []  \n",
              "10055          43        53        []  \n",
              "\n",
              "[10056 rows x 5 columns]"
            ],
            "text/html": [
              "\n",
              "  <div id=\"df-b470d102-fac5-4524-b8be-f0b53f9d8df9\">\n",
              "    <div class=\"colab-df-container\">\n",
              "      <div>\n",
              "<style scoped>\n",
              "    .dataframe tbody tr th:only-of-type {\n",
              "        vertical-align: middle;\n",
              "    }\n",
              "\n",
              "    .dataframe tbody tr th {\n",
              "        vertical-align: top;\n",
              "    }\n",
              "\n",
              "    .dataframe thead th {\n",
              "        text-align: right;\n",
              "    }\n",
              "</style>\n",
              "<table border=\"1\" class=\"dataframe\">\n",
              "  <thead>\n",
              "    <tr style=\"text-align: right;\">\n",
              "      <th></th>\n",
              "      <th>Tags</th>\n",
              "      <th>youtube_id</th>\n",
              "      <th>time_start</th>\n",
              "      <th>time_end</th>\n",
              "      <th>tags_list</th>\n",
              "    </tr>\n",
              "  </thead>\n",
              "  <tbody>\n",
              "    <tr>\n",
              "      <th>0</th>\n",
              "      <td>sport_venue|hip|joint|physical_exercise|ball_g...</td>\n",
              "      <td>-7arnYZJjKE</td>\n",
              "      <td>104</td>\n",
              "      <td>114</td>\n",
              "      <td>[]</td>\n",
              "    </tr>\n",
              "    <tr>\n",
              "      <th>1</th>\n",
              "      <td>day|cheek|pink|blond|leg|girl|fun|human_hair_c...</td>\n",
              "      <td>54OeCiZcXQQ</td>\n",
              "      <td>15</td>\n",
              "      <td>25</td>\n",
              "      <td>[]</td>\n",
              "    </tr>\n",
              "    <tr>\n",
              "      <th>2</th>\n",
              "      <td>fashion|event|music|playing_didgeridoo|reed_in...</td>\n",
              "      <td>L9yPCYk1Ltc</td>\n",
              "      <td>76</td>\n",
              "      <td>86</td>\n",
              "      <td>[]</td>\n",
              "    </tr>\n",
              "    <tr>\n",
              "      <th>3</th>\n",
              "      <td>foot|water|fun|livestock|vertebrate|joint|musc...</td>\n",
              "      <td>rpyUVF9yq0g</td>\n",
              "      <td>0</td>\n",
              "      <td>10</td>\n",
              "      <td>[]</td>\n",
              "    </tr>\n",
              "    <tr>\n",
              "      <th>4</th>\n",
              "      <td>darkness|cheek|water|arm|girl|fun|human|close_...</td>\n",
              "      <td>6hH_0IC2KlM</td>\n",
              "      <td>36</td>\n",
              "      <td>46</td>\n",
              "      <td>[]</td>\n",
              "    </tr>\n",
              "    <tr>\n",
              "      <th>...</th>\n",
              "      <td>...</td>\n",
              "      <td>...</td>\n",
              "      <td>...</td>\n",
              "      <td>...</td>\n",
              "      <td>...</td>\n",
              "    </tr>\n",
              "    <tr>\n",
              "      <th>10051</th>\n",
              "      <td>string_instrument|brand|string_instrument_acce...</td>\n",
              "      <td>lGiyiZh1JbA</td>\n",
              "      <td>92</td>\n",
              "      <td>102</td>\n",
              "      <td>[]</td>\n",
              "    </tr>\n",
              "    <tr>\n",
              "      <th>10052</th>\n",
              "      <td>adventure|woody_plant|girl|fun|sport_climbing|...</td>\n",
              "      <td>ptOCEg3wAj0</td>\n",
              "      <td>7</td>\n",
              "      <td>17</td>\n",
              "      <td>[]</td>\n",
              "    </tr>\n",
              "    <tr>\n",
              "      <th>10053</th>\n",
              "      <td>sport_venue|dog_breed_group|playing_badminton|...</td>\n",
              "      <td>TPKVrO6DdPw</td>\n",
              "      <td>26</td>\n",
              "      <td>36</td>\n",
              "      <td>[]</td>\n",
              "    </tr>\n",
              "    <tr>\n",
              "      <th>10054</th>\n",
              "      <td>parkour|hardwood|pedestrian|infrastructure|leg...</td>\n",
              "      <td>MHQFIdHkza4</td>\n",
              "      <td>34</td>\n",
              "      <td>44</td>\n",
              "      <td>[]</td>\n",
              "    </tr>\n",
              "    <tr>\n",
              "      <th>10055</th>\n",
              "      <td>reflection|bottling|paint|bottle|light|industr...</td>\n",
              "      <td>BbSdO2bXQ0M</td>\n",
              "      <td>43</td>\n",
              "      <td>53</td>\n",
              "      <td>[]</td>\n",
              "    </tr>\n",
              "  </tbody>\n",
              "</table>\n",
              "<p>10056 rows × 5 columns</p>\n",
              "</div>\n",
              "      <button class=\"colab-df-convert\" onclick=\"convertToInteractive('df-b470d102-fac5-4524-b8be-f0b53f9d8df9')\"\n",
              "              title=\"Convert this dataframe to an interactive table.\"\n",
              "              style=\"display:none;\">\n",
              "        \n",
              "  <svg xmlns=\"http://www.w3.org/2000/svg\" height=\"24px\"viewBox=\"0 0 24 24\"\n",
              "       width=\"24px\">\n",
              "    <path d=\"M0 0h24v24H0V0z\" fill=\"none\"/>\n",
              "    <path d=\"M18.56 5.44l.94 2.06.94-2.06 2.06-.94-2.06-.94-.94-2.06-.94 2.06-2.06.94zm-11 1L8.5 8.5l.94-2.06 2.06-.94-2.06-.94L8.5 2.5l-.94 2.06-2.06.94zm10 10l.94 2.06.94-2.06 2.06-.94-2.06-.94-.94-2.06-.94 2.06-2.06.94z\"/><path d=\"M17.41 7.96l-1.37-1.37c-.4-.4-.92-.59-1.43-.59-.52 0-1.04.2-1.43.59L10.3 9.45l-7.72 7.72c-.78.78-.78 2.05 0 2.83L4 21.41c.39.39.9.59 1.41.59.51 0 1.02-.2 1.41-.59l7.78-7.78 2.81-2.81c.8-.78.8-2.07 0-2.86zM5.41 20L4 18.59l7.72-7.72 1.47 1.35L5.41 20z\"/>\n",
              "  </svg>\n",
              "      </button>\n",
              "      \n",
              "  <style>\n",
              "    .colab-df-container {\n",
              "      display:flex;\n",
              "      flex-wrap:wrap;\n",
              "      gap: 12px;\n",
              "    }\n",
              "\n",
              "    .colab-df-convert {\n",
              "      background-color: #E8F0FE;\n",
              "      border: none;\n",
              "      border-radius: 50%;\n",
              "      cursor: pointer;\n",
              "      display: none;\n",
              "      fill: #1967D2;\n",
              "      height: 32px;\n",
              "      padding: 0 0 0 0;\n",
              "      width: 32px;\n",
              "    }\n",
              "\n",
              "    .colab-df-convert:hover {\n",
              "      background-color: #E2EBFA;\n",
              "      box-shadow: 0px 1px 2px rgba(60, 64, 67, 0.3), 0px 1px 3px 1px rgba(60, 64, 67, 0.15);\n",
              "      fill: #174EA6;\n",
              "    }\n",
              "\n",
              "    [theme=dark] .colab-df-convert {\n",
              "      background-color: #3B4455;\n",
              "      fill: #D2E3FC;\n",
              "    }\n",
              "\n",
              "    [theme=dark] .colab-df-convert:hover {\n",
              "      background-color: #434B5C;\n",
              "      box-shadow: 0px 1px 3px 1px rgba(0, 0, 0, 0.15);\n",
              "      filter: drop-shadow(0px 1px 2px rgba(0, 0, 0, 0.3));\n",
              "      fill: #FFFFFF;\n",
              "    }\n",
              "  </style>\n",
              "\n",
              "      <script>\n",
              "        const buttonEl =\n",
              "          document.querySelector('#df-b470d102-fac5-4524-b8be-f0b53f9d8df9 button.colab-df-convert');\n",
              "        buttonEl.style.display =\n",
              "          google.colab.kernel.accessAllowed ? 'block' : 'none';\n",
              "\n",
              "        async function convertToInteractive(key) {\n",
              "          const element = document.querySelector('#df-b470d102-fac5-4524-b8be-f0b53f9d8df9');\n",
              "          const dataTable =\n",
              "            await google.colab.kernel.invokeFunction('convertToInteractive',\n",
              "                                                     [key], {});\n",
              "          if (!dataTable) return;\n",
              "\n",
              "          const docLinkHtml = 'Like what you see? Visit the ' +\n",
              "            '<a target=\"_blank\" href=https://colab.research.google.com/notebooks/data_table.ipynb>data table notebook</a>'\n",
              "            + ' to learn more about interactive tables.';\n",
              "          element.innerHTML = '';\n",
              "          dataTable['output_type'] = 'display_data';\n",
              "          await google.colab.output.renderOutput(dataTable, element);\n",
              "          const docLink = document.createElement('div');\n",
              "          docLink.innerHTML = docLinkHtml;\n",
              "          element.appendChild(docLink);\n",
              "        }\n",
              "      </script>\n",
              "    </div>\n",
              "  </div>\n",
              "  "
            ]
          },
          "metadata": {},
          "execution_count": 5
        }
      ]
    },
    {
      "cell_type": "code",
      "source": [
        "df_2"
      ],
      "metadata": {
        "colab": {
          "base_uri": "https://localhost:8080/",
          "height": 424
        },
        "id": "HdAN3RALwCnk",
        "outputId": "d9b6b0aa-810d-42a3-906e-cdd1207b14c5"
      },
      "execution_count": null,
      "outputs": [
        {
          "output_type": "execute_result",
          "data": {
            "text/plain": [
              "                                                     Tags   youtube_id  \\\n",
              "0       batter|wheel|photo_caption|food|space|dairy_pr...  OVBv5sNL2Jc   \n",
              "1       sink|bidet|floor|plumbing|toilet_seat|outdoor_...  8z6ldEQtRIQ   \n",
              "2       musical_instrument|garmon|bandoneon|concertina...  7t6fFNX6Wyo   \n",
              "3       wheel|automotive_wheel_system|text|sitting|fun...  G5pBXTlRzg8   \n",
              "4       bow_and_arrow|physical_fitness|ceiling|recreat...  lEQjhTosoDo   \n",
              "...                                                   ...          ...   \n",
              "129622  soldier|twig|winter|residential_area|recreatio...  Jqg7IlEaSd8   \n",
              "129623  pull_ups|snapshot|medical_imaging|computer_wal...  cAzCteOHbs8   \n",
              "129624  gadget|hand|electronics|technology|finger|disp...  340khi8mSk4   \n",
              "129625  wood|angle|floor|material|hardware|hardwood|ch...  2kcTwPcZNCI   \n",
              "129626  snapshot|dance|friendship|dress|recreation|wom...  YEHrvh0mUGI   \n",
              "\n",
              "        time_start  time_end tags_list  \n",
              "0              487       497        []  \n",
              "1               63        73        []  \n",
              "2               90       100        []  \n",
              "3               30        40        []  \n",
              "4                0        10        []  \n",
              "...            ...       ...       ...  \n",
              "129622          85        95        []  \n",
              "129623          42        52        []  \n",
              "129624          32        42        []  \n",
              "129625          73        83        []  \n",
              "129626          86        96        []  \n",
              "\n",
              "[129627 rows x 5 columns]"
            ],
            "text/html": [
              "\n",
              "  <div id=\"df-bc7f65ab-0be2-4011-9e7f-f9c890094a6f\">\n",
              "    <div class=\"colab-df-container\">\n",
              "      <div>\n",
              "<style scoped>\n",
              "    .dataframe tbody tr th:only-of-type {\n",
              "        vertical-align: middle;\n",
              "    }\n",
              "\n",
              "    .dataframe tbody tr th {\n",
              "        vertical-align: top;\n",
              "    }\n",
              "\n",
              "    .dataframe thead th {\n",
              "        text-align: right;\n",
              "    }\n",
              "</style>\n",
              "<table border=\"1\" class=\"dataframe\">\n",
              "  <thead>\n",
              "    <tr style=\"text-align: right;\">\n",
              "      <th></th>\n",
              "      <th>Tags</th>\n",
              "      <th>youtube_id</th>\n",
              "      <th>time_start</th>\n",
              "      <th>time_end</th>\n",
              "      <th>tags_list</th>\n",
              "    </tr>\n",
              "  </thead>\n",
              "  <tbody>\n",
              "    <tr>\n",
              "      <th>0</th>\n",
              "      <td>batter|wheel|photo_caption|food|space|dairy_pr...</td>\n",
              "      <td>OVBv5sNL2Jc</td>\n",
              "      <td>487</td>\n",
              "      <td>497</td>\n",
              "      <td>[]</td>\n",
              "    </tr>\n",
              "    <tr>\n",
              "      <th>1</th>\n",
              "      <td>sink|bidet|floor|plumbing|toilet_seat|outdoor_...</td>\n",
              "      <td>8z6ldEQtRIQ</td>\n",
              "      <td>63</td>\n",
              "      <td>73</td>\n",
              "      <td>[]</td>\n",
              "    </tr>\n",
              "    <tr>\n",
              "      <th>2</th>\n",
              "      <td>musical_instrument|garmon|bandoneon|concertina...</td>\n",
              "      <td>7t6fFNX6Wyo</td>\n",
              "      <td>90</td>\n",
              "      <td>100</td>\n",
              "      <td>[]</td>\n",
              "    </tr>\n",
              "    <tr>\n",
              "      <th>3</th>\n",
              "      <td>wheel|automotive_wheel_system|text|sitting|fun...</td>\n",
              "      <td>G5pBXTlRzg8</td>\n",
              "      <td>30</td>\n",
              "      <td>40</td>\n",
              "      <td>[]</td>\n",
              "    </tr>\n",
              "    <tr>\n",
              "      <th>4</th>\n",
              "      <td>bow_and_arrow|physical_fitness|ceiling|recreat...</td>\n",
              "      <td>lEQjhTosoDo</td>\n",
              "      <td>0</td>\n",
              "      <td>10</td>\n",
              "      <td>[]</td>\n",
              "    </tr>\n",
              "    <tr>\n",
              "      <th>...</th>\n",
              "      <td>...</td>\n",
              "      <td>...</td>\n",
              "      <td>...</td>\n",
              "      <td>...</td>\n",
              "      <td>...</td>\n",
              "    </tr>\n",
              "    <tr>\n",
              "      <th>129622</th>\n",
              "      <td>soldier|twig|winter|residential_area|recreatio...</td>\n",
              "      <td>Jqg7IlEaSd8</td>\n",
              "      <td>85</td>\n",
              "      <td>95</td>\n",
              "      <td>[]</td>\n",
              "    </tr>\n",
              "    <tr>\n",
              "      <th>129623</th>\n",
              "      <td>pull_ups|snapshot|medical_imaging|computer_wal...</td>\n",
              "      <td>cAzCteOHbs8</td>\n",
              "      <td>42</td>\n",
              "      <td>52</td>\n",
              "      <td>[]</td>\n",
              "    </tr>\n",
              "    <tr>\n",
              "      <th>129624</th>\n",
              "      <td>gadget|hand|electronics|technology|finger|disp...</td>\n",
              "      <td>340khi8mSk4</td>\n",
              "      <td>32</td>\n",
              "      <td>42</td>\n",
              "      <td>[]</td>\n",
              "    </tr>\n",
              "    <tr>\n",
              "      <th>129625</th>\n",
              "      <td>wood|angle|floor|material|hardware|hardwood|ch...</td>\n",
              "      <td>2kcTwPcZNCI</td>\n",
              "      <td>73</td>\n",
              "      <td>83</td>\n",
              "      <td>[]</td>\n",
              "    </tr>\n",
              "    <tr>\n",
              "      <th>129626</th>\n",
              "      <td>snapshot|dance|friendship|dress|recreation|wom...</td>\n",
              "      <td>YEHrvh0mUGI</td>\n",
              "      <td>86</td>\n",
              "      <td>96</td>\n",
              "      <td>[]</td>\n",
              "    </tr>\n",
              "  </tbody>\n",
              "</table>\n",
              "<p>129627 rows × 5 columns</p>\n",
              "</div>\n",
              "      <button class=\"colab-df-convert\" onclick=\"convertToInteractive('df-bc7f65ab-0be2-4011-9e7f-f9c890094a6f')\"\n",
              "              title=\"Convert this dataframe to an interactive table.\"\n",
              "              style=\"display:none;\">\n",
              "        \n",
              "  <svg xmlns=\"http://www.w3.org/2000/svg\" height=\"24px\"viewBox=\"0 0 24 24\"\n",
              "       width=\"24px\">\n",
              "    <path d=\"M0 0h24v24H0V0z\" fill=\"none\"/>\n",
              "    <path d=\"M18.56 5.44l.94 2.06.94-2.06 2.06-.94-2.06-.94-.94-2.06-.94 2.06-2.06.94zm-11 1L8.5 8.5l.94-2.06 2.06-.94-2.06-.94L8.5 2.5l-.94 2.06-2.06.94zm10 10l.94 2.06.94-2.06 2.06-.94-2.06-.94-.94-2.06-.94 2.06-2.06.94z\"/><path d=\"M17.41 7.96l-1.37-1.37c-.4-.4-.92-.59-1.43-.59-.52 0-1.04.2-1.43.59L10.3 9.45l-7.72 7.72c-.78.78-.78 2.05 0 2.83L4 21.41c.39.39.9.59 1.41.59.51 0 1.02-.2 1.41-.59l7.78-7.78 2.81-2.81c.8-.78.8-2.07 0-2.86zM5.41 20L4 18.59l7.72-7.72 1.47 1.35L5.41 20z\"/>\n",
              "  </svg>\n",
              "      </button>\n",
              "      \n",
              "  <style>\n",
              "    .colab-df-container {\n",
              "      display:flex;\n",
              "      flex-wrap:wrap;\n",
              "      gap: 12px;\n",
              "    }\n",
              "\n",
              "    .colab-df-convert {\n",
              "      background-color: #E8F0FE;\n",
              "      border: none;\n",
              "      border-radius: 50%;\n",
              "      cursor: pointer;\n",
              "      display: none;\n",
              "      fill: #1967D2;\n",
              "      height: 32px;\n",
              "      padding: 0 0 0 0;\n",
              "      width: 32px;\n",
              "    }\n",
              "\n",
              "    .colab-df-convert:hover {\n",
              "      background-color: #E2EBFA;\n",
              "      box-shadow: 0px 1px 2px rgba(60, 64, 67, 0.3), 0px 1px 3px 1px rgba(60, 64, 67, 0.15);\n",
              "      fill: #174EA6;\n",
              "    }\n",
              "\n",
              "    [theme=dark] .colab-df-convert {\n",
              "      background-color: #3B4455;\n",
              "      fill: #D2E3FC;\n",
              "    }\n",
              "\n",
              "    [theme=dark] .colab-df-convert:hover {\n",
              "      background-color: #434B5C;\n",
              "      box-shadow: 0px 1px 3px 1px rgba(0, 0, 0, 0.15);\n",
              "      filter: drop-shadow(0px 1px 2px rgba(0, 0, 0, 0.3));\n",
              "      fill: #FFFFFF;\n",
              "    }\n",
              "  </style>\n",
              "\n",
              "      <script>\n",
              "        const buttonEl =\n",
              "          document.querySelector('#df-bc7f65ab-0be2-4011-9e7f-f9c890094a6f button.colab-df-convert');\n",
              "        buttonEl.style.display =\n",
              "          google.colab.kernel.accessAllowed ? 'block' : 'none';\n",
              "\n",
              "        async function convertToInteractive(key) {\n",
              "          const element = document.querySelector('#df-bc7f65ab-0be2-4011-9e7f-f9c890094a6f');\n",
              "          const dataTable =\n",
              "            await google.colab.kernel.invokeFunction('convertToInteractive',\n",
              "                                                     [key], {});\n",
              "          if (!dataTable) return;\n",
              "\n",
              "          const docLinkHtml = 'Like what you see? Visit the ' +\n",
              "            '<a target=\"_blank\" href=https://colab.research.google.com/notebooks/data_table.ipynb>data table notebook</a>'\n",
              "            + ' to learn more about interactive tables.';\n",
              "          element.innerHTML = '';\n",
              "          dataTable['output_type'] = 'display_data';\n",
              "          await google.colab.output.renderOutput(dataTable, element);\n",
              "          const docLink = document.createElement('div');\n",
              "          docLink.innerHTML = docLinkHtml;\n",
              "          element.appendChild(docLink);\n",
              "        }\n",
              "      </script>\n",
              "    </div>\n",
              "  </div>\n",
              "  "
            ]
          },
          "metadata": {},
          "execution_count": 6
        }
      ]
    },
    {
      "cell_type": "code",
      "source": [
        "def convert(string):\n",
        "    li = list(string.split(\"|\"))\n",
        "    return li"
      ],
      "metadata": {
        "id": "MNbN6xKezuwP"
      },
      "execution_count": null,
      "outputs": []
    },
    {
      "cell_type": "code",
      "source": [
        "def split_1(ip_df):\n",
        "  lol = []\n",
        "  l = len(ip_df.index)\n",
        "  for i in range(0,l):\n",
        "    temp = ip_df['Tags'].iloc[i]\n",
        "    temp2 = convert(temp)\n",
        "    lol.append(temp2)\n",
        "  return lol\n",
        "\n",
        "    # df['column name'] = df['column name'].replace(['old value'],'new value')"
      ],
      "metadata": {
        "id": "t5Itly8vxVk1"
      },
      "execution_count": null,
      "outputs": []
    },
    {
      "cell_type": "code",
      "source": [
        "def split_2(ip_df):\n",
        "  lol2 = []\n",
        "  l = len(ip_df.index)\n",
        "  for i in range(0,l):\n",
        "    temp = ip_df['Tags'].iloc[i]\n",
        "    temp2 = convert(temp)\n",
        "    lol2.append(temp2)\n",
        "  return lol2\n"
      ],
      "metadata": {
        "id": "P-w0ryKE73yt"
      },
      "execution_count": null,
      "outputs": []
    },
    {
      "cell_type": "code",
      "source": [
        "list1 = split_1(df_1)"
      ],
      "metadata": {
        "id": "uQBH58mfxVns"
      },
      "execution_count": null,
      "outputs": []
    },
    {
      "cell_type": "code",
      "source": [
        "list2 = split_2(df_2)"
      ],
      "metadata": {
        "id": "0Ebk-JtdxVqP"
      },
      "execution_count": null,
      "outputs": []
    },
    {
      "cell_type": "code",
      "source": [
        "# list1"
      ],
      "metadata": {
        "id": "ytnvJV8D7_qU"
      },
      "execution_count": null,
      "outputs": []
    },
    {
      "cell_type": "code",
      "source": [
        "# list2"
      ],
      "metadata": {
        "id": "rP464mYc7_ux"
      },
      "execution_count": null,
      "outputs": []
    },
    {
      "cell_type": "code",
      "source": [
        "df_1['tags_len'] = 0\n",
        "df_2['tags_len'] = 0"
      ],
      "metadata": {
        "id": "qt5O-ttyHt3G"
      },
      "execution_count": null,
      "outputs": []
    },
    {
      "cell_type": "code",
      "source": [
        "l = len(df_1.index)\n",
        "for i in range(0,l):\n",
        "  df_1['tags_len'].iloc[i] = df_1['tags_len'].iloc[i] + len(list1[i])\n",
        "  df_1['tags_list'].iloc[i] = df_1['tags_list'].iloc[i]+ list1[i]"
      ],
      "metadata": {
        "colab": {
          "base_uri": "https://localhost:8080/"
        },
        "id": "Pgb-35cEHt8D",
        "outputId": "caf13f57-ba84-4578-8ecb-ab9f719d042a"
      },
      "execution_count": null,
      "outputs": [
        {
          "output_type": "stream",
          "name": "stderr",
          "text": [
            "/usr/local/lib/python3.7/dist-packages/pandas/core/indexing.py:1732: SettingWithCopyWarning: \n",
            "A value is trying to be set on a copy of a slice from a DataFrame\n",
            "\n",
            "See the caveats in the documentation: https://pandas.pydata.org/pandas-docs/stable/user_guide/indexing.html#returning-a-view-versus-a-copy\n",
            "  self._setitem_single_block(indexer, value, name)\n"
          ]
        }
      ]
    },
    {
      "cell_type": "code",
      "source": [
        "l = len(df_2.index)\n",
        "for i in range(0,l):\n",
        "  df_2['tags_len'].iloc[i] = df_2['tags_len'].iloc[i] + len(list2[i])\n",
        "  df_2['tags_list'].iloc[i] = df_2['tags_list'].iloc[i]+ list2[i]"
      ],
      "metadata": {
        "colab": {
          "base_uri": "https://localhost:8080/"
        },
        "id": "u9AAxF6T7_xv",
        "outputId": "a32b0b6e-f489-4798-f956-5491a63c1e9d"
      },
      "execution_count": null,
      "outputs": [
        {
          "output_type": "stream",
          "name": "stderr",
          "text": [
            "/usr/local/lib/python3.7/dist-packages/pandas/core/indexing.py:1732: SettingWithCopyWarning: \n",
            "A value is trying to be set on a copy of a slice from a DataFrame\n",
            "\n",
            "See the caveats in the documentation: https://pandas.pydata.org/pandas-docs/stable/user_guide/indexing.html#returning-a-view-versus-a-copy\n",
            "  self._setitem_single_block(indexer, value, name)\n"
          ]
        }
      ]
    },
    {
      "cell_type": "code",
      "source": [
        "df_1"
      ],
      "metadata": {
        "colab": {
          "base_uri": "https://localhost:8080/",
          "height": 424
        },
        "id": "-m_K2LGQIS4S",
        "outputId": "00f43ceb-8a92-47c8-de35-3e7a63a2779b"
      },
      "execution_count": null,
      "outputs": [
        {
          "output_type": "execute_result",
          "data": {
            "text/plain": [
              "                                                    Tags   youtube_id  \\\n",
              "0      sport_venue|hip|joint|physical_exercise|ball_g...  -7arnYZJjKE   \n",
              "1      day|cheek|pink|blond|leg|girl|fun|human_hair_c...  54OeCiZcXQQ   \n",
              "2      fashion|event|music|playing_didgeridoo|reed_in...  L9yPCYk1Ltc   \n",
              "3      foot|water|fun|livestock|vertebrate|joint|musc...  rpyUVF9yq0g   \n",
              "4      darkness|cheek|water|arm|girl|fun|human|close_...  6hH_0IC2KlM   \n",
              "...                                                  ...          ...   \n",
              "10051  string_instrument|brand|string_instrument_acce...  lGiyiZh1JbA   \n",
              "10052  adventure|woody_plant|girl|fun|sport_climbing|...  ptOCEg3wAj0   \n",
              "10053  sport_venue|dog_breed_group|playing_badminton|...  TPKVrO6DdPw   \n",
              "10054  parkour|hardwood|pedestrian|infrastructure|leg...  MHQFIdHkza4   \n",
              "10055  reflection|bottling|paint|bottle|light|industr...  BbSdO2bXQ0M   \n",
              "\n",
              "       time_start  time_end  \\\n",
              "0             104       114   \n",
              "1              15        25   \n",
              "2              76        86   \n",
              "3               0        10   \n",
              "4              36        46   \n",
              "...           ...       ...   \n",
              "10051          92       102   \n",
              "10052           7        17   \n",
              "10053          26        36   \n",
              "10054          34        44   \n",
              "10055          43        53   \n",
              "\n",
              "                                               tags_list  tags_len  \n",
              "0      [sport_venue, hip, joint, physical_exercise, b...        22  \n",
              "1      [day, cheek, pink, blond, leg, girl, fun, huma...        18  \n",
              "2      [fashion, event, music, playing_didgeridoo, re...        10  \n",
              "3      [foot, water, fun, livestock, vertebrate, join...        30  \n",
              "4      [darkness, cheek, water, arm, girl, fun, human...        20  \n",
              "...                                                  ...       ...  \n",
              "10051  [string_instrument, brand, string_instrument_a...        17  \n",
              "10052  [adventure, woody_plant, girl, fun, sport_clim...        15  \n",
              "10053  [sport_venue, dog_breed_group, playing_badmint...        22  \n",
              "10054  [parkour, hardwood, pedestrian, infrastructure...        15  \n",
              "10055  [reflection, bottling, paint, bottle, light, i...        21  \n",
              "\n",
              "[10056 rows x 6 columns]"
            ],
            "text/html": [
              "\n",
              "  <div id=\"df-eaad8750-e933-4cce-8fbc-e1219d2d55fd\">\n",
              "    <div class=\"colab-df-container\">\n",
              "      <div>\n",
              "<style scoped>\n",
              "    .dataframe tbody tr th:only-of-type {\n",
              "        vertical-align: middle;\n",
              "    }\n",
              "\n",
              "    .dataframe tbody tr th {\n",
              "        vertical-align: top;\n",
              "    }\n",
              "\n",
              "    .dataframe thead th {\n",
              "        text-align: right;\n",
              "    }\n",
              "</style>\n",
              "<table border=\"1\" class=\"dataframe\">\n",
              "  <thead>\n",
              "    <tr style=\"text-align: right;\">\n",
              "      <th></th>\n",
              "      <th>Tags</th>\n",
              "      <th>youtube_id</th>\n",
              "      <th>time_start</th>\n",
              "      <th>time_end</th>\n",
              "      <th>tags_list</th>\n",
              "      <th>tags_len</th>\n",
              "    </tr>\n",
              "  </thead>\n",
              "  <tbody>\n",
              "    <tr>\n",
              "      <th>0</th>\n",
              "      <td>sport_venue|hip|joint|physical_exercise|ball_g...</td>\n",
              "      <td>-7arnYZJjKE</td>\n",
              "      <td>104</td>\n",
              "      <td>114</td>\n",
              "      <td>[sport_venue, hip, joint, physical_exercise, b...</td>\n",
              "      <td>22</td>\n",
              "    </tr>\n",
              "    <tr>\n",
              "      <th>1</th>\n",
              "      <td>day|cheek|pink|blond|leg|girl|fun|human_hair_c...</td>\n",
              "      <td>54OeCiZcXQQ</td>\n",
              "      <td>15</td>\n",
              "      <td>25</td>\n",
              "      <td>[day, cheek, pink, blond, leg, girl, fun, huma...</td>\n",
              "      <td>18</td>\n",
              "    </tr>\n",
              "    <tr>\n",
              "      <th>2</th>\n",
              "      <td>fashion|event|music|playing_didgeridoo|reed_in...</td>\n",
              "      <td>L9yPCYk1Ltc</td>\n",
              "      <td>76</td>\n",
              "      <td>86</td>\n",
              "      <td>[fashion, event, music, playing_didgeridoo, re...</td>\n",
              "      <td>10</td>\n",
              "    </tr>\n",
              "    <tr>\n",
              "      <th>3</th>\n",
              "      <td>foot|water|fun|livestock|vertebrate|joint|musc...</td>\n",
              "      <td>rpyUVF9yq0g</td>\n",
              "      <td>0</td>\n",
              "      <td>10</td>\n",
              "      <td>[foot, water, fun, livestock, vertebrate, join...</td>\n",
              "      <td>30</td>\n",
              "    </tr>\n",
              "    <tr>\n",
              "      <th>4</th>\n",
              "      <td>darkness|cheek|water|arm|girl|fun|human|close_...</td>\n",
              "      <td>6hH_0IC2KlM</td>\n",
              "      <td>36</td>\n",
              "      <td>46</td>\n",
              "      <td>[darkness, cheek, water, arm, girl, fun, human...</td>\n",
              "      <td>20</td>\n",
              "    </tr>\n",
              "    <tr>\n",
              "      <th>...</th>\n",
              "      <td>...</td>\n",
              "      <td>...</td>\n",
              "      <td>...</td>\n",
              "      <td>...</td>\n",
              "      <td>...</td>\n",
              "      <td>...</td>\n",
              "    </tr>\n",
              "    <tr>\n",
              "      <th>10051</th>\n",
              "      <td>string_instrument|brand|string_instrument_acce...</td>\n",
              "      <td>lGiyiZh1JbA</td>\n",
              "      <td>92</td>\n",
              "      <td>102</td>\n",
              "      <td>[string_instrument, brand, string_instrument_a...</td>\n",
              "      <td>17</td>\n",
              "    </tr>\n",
              "    <tr>\n",
              "      <th>10052</th>\n",
              "      <td>adventure|woody_plant|girl|fun|sport_climbing|...</td>\n",
              "      <td>ptOCEg3wAj0</td>\n",
              "      <td>7</td>\n",
              "      <td>17</td>\n",
              "      <td>[adventure, woody_plant, girl, fun, sport_clim...</td>\n",
              "      <td>15</td>\n",
              "    </tr>\n",
              "    <tr>\n",
              "      <th>10053</th>\n",
              "      <td>sport_venue|dog_breed_group|playing_badminton|...</td>\n",
              "      <td>TPKVrO6DdPw</td>\n",
              "      <td>26</td>\n",
              "      <td>36</td>\n",
              "      <td>[sport_venue, dog_breed_group, playing_badmint...</td>\n",
              "      <td>22</td>\n",
              "    </tr>\n",
              "    <tr>\n",
              "      <th>10054</th>\n",
              "      <td>parkour|hardwood|pedestrian|infrastructure|leg...</td>\n",
              "      <td>MHQFIdHkza4</td>\n",
              "      <td>34</td>\n",
              "      <td>44</td>\n",
              "      <td>[parkour, hardwood, pedestrian, infrastructure...</td>\n",
              "      <td>15</td>\n",
              "    </tr>\n",
              "    <tr>\n",
              "      <th>10055</th>\n",
              "      <td>reflection|bottling|paint|bottle|light|industr...</td>\n",
              "      <td>BbSdO2bXQ0M</td>\n",
              "      <td>43</td>\n",
              "      <td>53</td>\n",
              "      <td>[reflection, bottling, paint, bottle, light, i...</td>\n",
              "      <td>21</td>\n",
              "    </tr>\n",
              "  </tbody>\n",
              "</table>\n",
              "<p>10056 rows × 6 columns</p>\n",
              "</div>\n",
              "      <button class=\"colab-df-convert\" onclick=\"convertToInteractive('df-eaad8750-e933-4cce-8fbc-e1219d2d55fd')\"\n",
              "              title=\"Convert this dataframe to an interactive table.\"\n",
              "              style=\"display:none;\">\n",
              "        \n",
              "  <svg xmlns=\"http://www.w3.org/2000/svg\" height=\"24px\"viewBox=\"0 0 24 24\"\n",
              "       width=\"24px\">\n",
              "    <path d=\"M0 0h24v24H0V0z\" fill=\"none\"/>\n",
              "    <path d=\"M18.56 5.44l.94 2.06.94-2.06 2.06-.94-2.06-.94-.94-2.06-.94 2.06-2.06.94zm-11 1L8.5 8.5l.94-2.06 2.06-.94-2.06-.94L8.5 2.5l-.94 2.06-2.06.94zm10 10l.94 2.06.94-2.06 2.06-.94-2.06-.94-.94-2.06-.94 2.06-2.06.94z\"/><path d=\"M17.41 7.96l-1.37-1.37c-.4-.4-.92-.59-1.43-.59-.52 0-1.04.2-1.43.59L10.3 9.45l-7.72 7.72c-.78.78-.78 2.05 0 2.83L4 21.41c.39.39.9.59 1.41.59.51 0 1.02-.2 1.41-.59l7.78-7.78 2.81-2.81c.8-.78.8-2.07 0-2.86zM5.41 20L4 18.59l7.72-7.72 1.47 1.35L5.41 20z\"/>\n",
              "  </svg>\n",
              "      </button>\n",
              "      \n",
              "  <style>\n",
              "    .colab-df-container {\n",
              "      display:flex;\n",
              "      flex-wrap:wrap;\n",
              "      gap: 12px;\n",
              "    }\n",
              "\n",
              "    .colab-df-convert {\n",
              "      background-color: #E8F0FE;\n",
              "      border: none;\n",
              "      border-radius: 50%;\n",
              "      cursor: pointer;\n",
              "      display: none;\n",
              "      fill: #1967D2;\n",
              "      height: 32px;\n",
              "      padding: 0 0 0 0;\n",
              "      width: 32px;\n",
              "    }\n",
              "\n",
              "    .colab-df-convert:hover {\n",
              "      background-color: #E2EBFA;\n",
              "      box-shadow: 0px 1px 2px rgba(60, 64, 67, 0.3), 0px 1px 3px 1px rgba(60, 64, 67, 0.15);\n",
              "      fill: #174EA6;\n",
              "    }\n",
              "\n",
              "    [theme=dark] .colab-df-convert {\n",
              "      background-color: #3B4455;\n",
              "      fill: #D2E3FC;\n",
              "    }\n",
              "\n",
              "    [theme=dark] .colab-df-convert:hover {\n",
              "      background-color: #434B5C;\n",
              "      box-shadow: 0px 1px 3px 1px rgba(0, 0, 0, 0.15);\n",
              "      filter: drop-shadow(0px 1px 2px rgba(0, 0, 0, 0.3));\n",
              "      fill: #FFFFFF;\n",
              "    }\n",
              "  </style>\n",
              "\n",
              "      <script>\n",
              "        const buttonEl =\n",
              "          document.querySelector('#df-eaad8750-e933-4cce-8fbc-e1219d2d55fd button.colab-df-convert');\n",
              "        buttonEl.style.display =\n",
              "          google.colab.kernel.accessAllowed ? 'block' : 'none';\n",
              "\n",
              "        async function convertToInteractive(key) {\n",
              "          const element = document.querySelector('#df-eaad8750-e933-4cce-8fbc-e1219d2d55fd');\n",
              "          const dataTable =\n",
              "            await google.colab.kernel.invokeFunction('convertToInteractive',\n",
              "                                                     [key], {});\n",
              "          if (!dataTable) return;\n",
              "\n",
              "          const docLinkHtml = 'Like what you see? Visit the ' +\n",
              "            '<a target=\"_blank\" href=https://colab.research.google.com/notebooks/data_table.ipynb>data table notebook</a>'\n",
              "            + ' to learn more about interactive tables.';\n",
              "          element.innerHTML = '';\n",
              "          dataTable['output_type'] = 'display_data';\n",
              "          await google.colab.output.renderOutput(dataTable, element);\n",
              "          const docLink = document.createElement('div');\n",
              "          docLink.innerHTML = docLinkHtml;\n",
              "          element.appendChild(docLink);\n",
              "        }\n",
              "      </script>\n",
              "    </div>\n",
              "  </div>\n",
              "  "
            ]
          },
          "metadata": {},
          "execution_count": 17
        }
      ]
    },
    {
      "cell_type": "code",
      "source": [
        "df_2"
      ],
      "metadata": {
        "colab": {
          "base_uri": "https://localhost:8080/",
          "height": 424
        },
        "id": "YrtBpzlgIS7M",
        "outputId": "cbad8125-7255-4b86-dccc-9311279c296c"
      },
      "execution_count": null,
      "outputs": [
        {
          "output_type": "execute_result",
          "data": {
            "text/plain": [
              "                                                     Tags   youtube_id  \\\n",
              "0       batter|wheel|photo_caption|food|space|dairy_pr...  OVBv5sNL2Jc   \n",
              "1       sink|bidet|floor|plumbing|toilet_seat|outdoor_...  8z6ldEQtRIQ   \n",
              "2       musical_instrument|garmon|bandoneon|concertina...  7t6fFNX6Wyo   \n",
              "3       wheel|automotive_wheel_system|text|sitting|fun...  G5pBXTlRzg8   \n",
              "4       bow_and_arrow|physical_fitness|ceiling|recreat...  lEQjhTosoDo   \n",
              "...                                                   ...          ...   \n",
              "129622  soldier|twig|winter|residential_area|recreatio...  Jqg7IlEaSd8   \n",
              "129623  pull_ups|snapshot|medical_imaging|computer_wal...  cAzCteOHbs8   \n",
              "129624  gadget|hand|electronics|technology|finger|disp...  340khi8mSk4   \n",
              "129625  wood|angle|floor|material|hardware|hardwood|ch...  2kcTwPcZNCI   \n",
              "129626  snapshot|dance|friendship|dress|recreation|wom...  YEHrvh0mUGI   \n",
              "\n",
              "        time_start  time_end  \\\n",
              "0              487       497   \n",
              "1               63        73   \n",
              "2               90       100   \n",
              "3               30        40   \n",
              "4                0        10   \n",
              "...            ...       ...   \n",
              "129622          85        95   \n",
              "129623          42        52   \n",
              "129624          32        42   \n",
              "129625          73        83   \n",
              "129626          86        96   \n",
              "\n",
              "                                                tags_list  tags_len  \n",
              "0       [batter, wheel, photo_caption, food, space, da...        27  \n",
              "1       [sink, bidet, floor, plumbing, toilet_seat, ou...        23  \n",
              "2       [musical_instrument, garmon, bandoneon, concer...        14  \n",
              "3       [wheel, automotive_wheel_system, text, sitting...        31  \n",
              "4       [bow_and_arrow, physical_fitness, ceiling, rec...        27  \n",
              "...                                                   ...       ...  \n",
              "129622  [soldier, twig, winter, residential_area, recr...        31  \n",
              "129623  [pull_ups, snapshot, medical_imaging, computer...        29  \n",
              "129624  [gadget, hand, electronics, technology, finger...        15  \n",
              "129625  [wood, angle, floor, material, hardware, hardw...         9  \n",
              "129626  [snapshot, dance, friendship, dress, recreatio...        31  \n",
              "\n",
              "[129627 rows x 6 columns]"
            ],
            "text/html": [
              "\n",
              "  <div id=\"df-4777f537-c160-43c7-8b7b-3edd7b9a2564\">\n",
              "    <div class=\"colab-df-container\">\n",
              "      <div>\n",
              "<style scoped>\n",
              "    .dataframe tbody tr th:only-of-type {\n",
              "        vertical-align: middle;\n",
              "    }\n",
              "\n",
              "    .dataframe tbody tr th {\n",
              "        vertical-align: top;\n",
              "    }\n",
              "\n",
              "    .dataframe thead th {\n",
              "        text-align: right;\n",
              "    }\n",
              "</style>\n",
              "<table border=\"1\" class=\"dataframe\">\n",
              "  <thead>\n",
              "    <tr style=\"text-align: right;\">\n",
              "      <th></th>\n",
              "      <th>Tags</th>\n",
              "      <th>youtube_id</th>\n",
              "      <th>time_start</th>\n",
              "      <th>time_end</th>\n",
              "      <th>tags_list</th>\n",
              "      <th>tags_len</th>\n",
              "    </tr>\n",
              "  </thead>\n",
              "  <tbody>\n",
              "    <tr>\n",
              "      <th>0</th>\n",
              "      <td>batter|wheel|photo_caption|food|space|dairy_pr...</td>\n",
              "      <td>OVBv5sNL2Jc</td>\n",
              "      <td>487</td>\n",
              "      <td>497</td>\n",
              "      <td>[batter, wheel, photo_caption, food, space, da...</td>\n",
              "      <td>27</td>\n",
              "    </tr>\n",
              "    <tr>\n",
              "      <th>1</th>\n",
              "      <td>sink|bidet|floor|plumbing|toilet_seat|outdoor_...</td>\n",
              "      <td>8z6ldEQtRIQ</td>\n",
              "      <td>63</td>\n",
              "      <td>73</td>\n",
              "      <td>[sink, bidet, floor, plumbing, toilet_seat, ou...</td>\n",
              "      <td>23</td>\n",
              "    </tr>\n",
              "    <tr>\n",
              "      <th>2</th>\n",
              "      <td>musical_instrument|garmon|bandoneon|concertina...</td>\n",
              "      <td>7t6fFNX6Wyo</td>\n",
              "      <td>90</td>\n",
              "      <td>100</td>\n",
              "      <td>[musical_instrument, garmon, bandoneon, concer...</td>\n",
              "      <td>14</td>\n",
              "    </tr>\n",
              "    <tr>\n",
              "      <th>3</th>\n",
              "      <td>wheel|automotive_wheel_system|text|sitting|fun...</td>\n",
              "      <td>G5pBXTlRzg8</td>\n",
              "      <td>30</td>\n",
              "      <td>40</td>\n",
              "      <td>[wheel, automotive_wheel_system, text, sitting...</td>\n",
              "      <td>31</td>\n",
              "    </tr>\n",
              "    <tr>\n",
              "      <th>4</th>\n",
              "      <td>bow_and_arrow|physical_fitness|ceiling|recreat...</td>\n",
              "      <td>lEQjhTosoDo</td>\n",
              "      <td>0</td>\n",
              "      <td>10</td>\n",
              "      <td>[bow_and_arrow, physical_fitness, ceiling, rec...</td>\n",
              "      <td>27</td>\n",
              "    </tr>\n",
              "    <tr>\n",
              "      <th>...</th>\n",
              "      <td>...</td>\n",
              "      <td>...</td>\n",
              "      <td>...</td>\n",
              "      <td>...</td>\n",
              "      <td>...</td>\n",
              "      <td>...</td>\n",
              "    </tr>\n",
              "    <tr>\n",
              "      <th>129622</th>\n",
              "      <td>soldier|twig|winter|residential_area|recreatio...</td>\n",
              "      <td>Jqg7IlEaSd8</td>\n",
              "      <td>85</td>\n",
              "      <td>95</td>\n",
              "      <td>[soldier, twig, winter, residential_area, recr...</td>\n",
              "      <td>31</td>\n",
              "    </tr>\n",
              "    <tr>\n",
              "      <th>129623</th>\n",
              "      <td>pull_ups|snapshot|medical_imaging|computer_wal...</td>\n",
              "      <td>cAzCteOHbs8</td>\n",
              "      <td>42</td>\n",
              "      <td>52</td>\n",
              "      <td>[pull_ups, snapshot, medical_imaging, computer...</td>\n",
              "      <td>29</td>\n",
              "    </tr>\n",
              "    <tr>\n",
              "      <th>129624</th>\n",
              "      <td>gadget|hand|electronics|technology|finger|disp...</td>\n",
              "      <td>340khi8mSk4</td>\n",
              "      <td>32</td>\n",
              "      <td>42</td>\n",
              "      <td>[gadget, hand, electronics, technology, finger...</td>\n",
              "      <td>15</td>\n",
              "    </tr>\n",
              "    <tr>\n",
              "      <th>129625</th>\n",
              "      <td>wood|angle|floor|material|hardware|hardwood|ch...</td>\n",
              "      <td>2kcTwPcZNCI</td>\n",
              "      <td>73</td>\n",
              "      <td>83</td>\n",
              "      <td>[wood, angle, floor, material, hardware, hardw...</td>\n",
              "      <td>9</td>\n",
              "    </tr>\n",
              "    <tr>\n",
              "      <th>129626</th>\n",
              "      <td>snapshot|dance|friendship|dress|recreation|wom...</td>\n",
              "      <td>YEHrvh0mUGI</td>\n",
              "      <td>86</td>\n",
              "      <td>96</td>\n",
              "      <td>[snapshot, dance, friendship, dress, recreatio...</td>\n",
              "      <td>31</td>\n",
              "    </tr>\n",
              "  </tbody>\n",
              "</table>\n",
              "<p>129627 rows × 6 columns</p>\n",
              "</div>\n",
              "      <button class=\"colab-df-convert\" onclick=\"convertToInteractive('df-4777f537-c160-43c7-8b7b-3edd7b9a2564')\"\n",
              "              title=\"Convert this dataframe to an interactive table.\"\n",
              "              style=\"display:none;\">\n",
              "        \n",
              "  <svg xmlns=\"http://www.w3.org/2000/svg\" height=\"24px\"viewBox=\"0 0 24 24\"\n",
              "       width=\"24px\">\n",
              "    <path d=\"M0 0h24v24H0V0z\" fill=\"none\"/>\n",
              "    <path d=\"M18.56 5.44l.94 2.06.94-2.06 2.06-.94-2.06-.94-.94-2.06-.94 2.06-2.06.94zm-11 1L8.5 8.5l.94-2.06 2.06-.94-2.06-.94L8.5 2.5l-.94 2.06-2.06.94zm10 10l.94 2.06.94-2.06 2.06-.94-2.06-.94-.94-2.06-.94 2.06-2.06.94z\"/><path d=\"M17.41 7.96l-1.37-1.37c-.4-.4-.92-.59-1.43-.59-.52 0-1.04.2-1.43.59L10.3 9.45l-7.72 7.72c-.78.78-.78 2.05 0 2.83L4 21.41c.39.39.9.59 1.41.59.51 0 1.02-.2 1.41-.59l7.78-7.78 2.81-2.81c.8-.78.8-2.07 0-2.86zM5.41 20L4 18.59l7.72-7.72 1.47 1.35L5.41 20z\"/>\n",
              "  </svg>\n",
              "      </button>\n",
              "      \n",
              "  <style>\n",
              "    .colab-df-container {\n",
              "      display:flex;\n",
              "      flex-wrap:wrap;\n",
              "      gap: 12px;\n",
              "    }\n",
              "\n",
              "    .colab-df-convert {\n",
              "      background-color: #E8F0FE;\n",
              "      border: none;\n",
              "      border-radius: 50%;\n",
              "      cursor: pointer;\n",
              "      display: none;\n",
              "      fill: #1967D2;\n",
              "      height: 32px;\n",
              "      padding: 0 0 0 0;\n",
              "      width: 32px;\n",
              "    }\n",
              "\n",
              "    .colab-df-convert:hover {\n",
              "      background-color: #E2EBFA;\n",
              "      box-shadow: 0px 1px 2px rgba(60, 64, 67, 0.3), 0px 1px 3px 1px rgba(60, 64, 67, 0.15);\n",
              "      fill: #174EA6;\n",
              "    }\n",
              "\n",
              "    [theme=dark] .colab-df-convert {\n",
              "      background-color: #3B4455;\n",
              "      fill: #D2E3FC;\n",
              "    }\n",
              "\n",
              "    [theme=dark] .colab-df-convert:hover {\n",
              "      background-color: #434B5C;\n",
              "      box-shadow: 0px 1px 3px 1px rgba(0, 0, 0, 0.15);\n",
              "      filter: drop-shadow(0px 1px 2px rgba(0, 0, 0, 0.3));\n",
              "      fill: #FFFFFF;\n",
              "    }\n",
              "  </style>\n",
              "\n",
              "      <script>\n",
              "        const buttonEl =\n",
              "          document.querySelector('#df-4777f537-c160-43c7-8b7b-3edd7b9a2564 button.colab-df-convert');\n",
              "        buttonEl.style.display =\n",
              "          google.colab.kernel.accessAllowed ? 'block' : 'none';\n",
              "\n",
              "        async function convertToInteractive(key) {\n",
              "          const element = document.querySelector('#df-4777f537-c160-43c7-8b7b-3edd7b9a2564');\n",
              "          const dataTable =\n",
              "            await google.colab.kernel.invokeFunction('convertToInteractive',\n",
              "                                                     [key], {});\n",
              "          if (!dataTable) return;\n",
              "\n",
              "          const docLinkHtml = 'Like what you see? Visit the ' +\n",
              "            '<a target=\"_blank\" href=https://colab.research.google.com/notebooks/data_table.ipynb>data table notebook</a>'\n",
              "            + ' to learn more about interactive tables.';\n",
              "          element.innerHTML = '';\n",
              "          dataTable['output_type'] = 'display_data';\n",
              "          await google.colab.output.renderOutput(dataTable, element);\n",
              "          const docLink = document.createElement('div');\n",
              "          docLink.innerHTML = docLinkHtml;\n",
              "          element.appendChild(docLink);\n",
              "        }\n",
              "      </script>\n",
              "    </div>\n",
              "  </div>\n",
              "  "
            ]
          },
          "metadata": {},
          "execution_count": 18
        }
      ]
    },
    {
      "cell_type": "code",
      "source": [
        "for i in range(0, l):\n",
        "  \n",
        "\n",
        "# df_1['link'] = \"/content/drive/Shareddrives/project519/videos/\"+str(df_1.index)+\".f278.webm\"\n",
        "# df_2['link'] = \"/content/drive/Shareddrives/project519/videos/\"+str(df_2.index)+\".f278.webm\""
      ],
      "metadata": {
        "id": "uMJhAzmx05U7",
        "colab": {
          "base_uri": "https://localhost:8080/",
          "height": 130
        },
        "outputId": "4d06176f-6b83-416d-bb0e-c5eba6120f4f"
      },
      "execution_count": null,
      "outputs": [
        {
          "output_type": "error",
          "ename": "SyntaxError",
          "evalue": "ignored",
          "traceback": [
            "\u001b[0;36m  File \u001b[0;32m\"<ipython-input-19-9d1271846cb7>\"\u001b[0;36m, line \u001b[0;32m5\u001b[0m\n\u001b[0;31m    # df_2['link'] = \"/content/drive/Shareddrives/project519/videos/\"+str(df_2.index)+\".f278.webm\"\u001b[0m\n\u001b[0m                                                                                                  ^\u001b[0m\n\u001b[0;31mSyntaxError\u001b[0m\u001b[0;31m:\u001b[0m unexpected EOF while parsing\n"
          ]
        }
      ]
    },
    {
      "cell_type": "code",
      "source": [
        "df_2.head(2)"
      ],
      "metadata": {
        "colab": {
          "base_uri": "https://localhost:8080/",
          "height": 112
        },
        "id": "nw6e0TCF_nMR",
        "outputId": "036e9d2c-6c0d-4f7e-9012-1c464089c508"
      },
      "execution_count": null,
      "outputs": [
        {
          "output_type": "execute_result",
          "data": {
            "text/plain": [
              "                                                Tags   youtube_id  time_start  \\\n",
              "0  batter|wheel|photo_caption|food|space|dairy_pr...  OVBv5sNL2Jc         487   \n",
              "1  sink|bidet|floor|plumbing|toilet_seat|outdoor_...  8z6ldEQtRIQ          63   \n",
              "\n",
              "   time_end                                          tags_list  tags_len  \n",
              "0       497  [batter, wheel, photo_caption, food, space, da...        27  \n",
              "1        73  [sink, bidet, floor, plumbing, toilet_seat, ou...        23  "
            ],
            "text/html": [
              "\n",
              "  <div id=\"df-319be317-9418-4c71-bcca-01c707eb9b06\">\n",
              "    <div class=\"colab-df-container\">\n",
              "      <div>\n",
              "<style scoped>\n",
              "    .dataframe tbody tr th:only-of-type {\n",
              "        vertical-align: middle;\n",
              "    }\n",
              "\n",
              "    .dataframe tbody tr th {\n",
              "        vertical-align: top;\n",
              "    }\n",
              "\n",
              "    .dataframe thead th {\n",
              "        text-align: right;\n",
              "    }\n",
              "</style>\n",
              "<table border=\"1\" class=\"dataframe\">\n",
              "  <thead>\n",
              "    <tr style=\"text-align: right;\">\n",
              "      <th></th>\n",
              "      <th>Tags</th>\n",
              "      <th>youtube_id</th>\n",
              "      <th>time_start</th>\n",
              "      <th>time_end</th>\n",
              "      <th>tags_list</th>\n",
              "      <th>tags_len</th>\n",
              "    </tr>\n",
              "  </thead>\n",
              "  <tbody>\n",
              "    <tr>\n",
              "      <th>0</th>\n",
              "      <td>batter|wheel|photo_caption|food|space|dairy_pr...</td>\n",
              "      <td>OVBv5sNL2Jc</td>\n",
              "      <td>487</td>\n",
              "      <td>497</td>\n",
              "      <td>[batter, wheel, photo_caption, food, space, da...</td>\n",
              "      <td>27</td>\n",
              "    </tr>\n",
              "    <tr>\n",
              "      <th>1</th>\n",
              "      <td>sink|bidet|floor|plumbing|toilet_seat|outdoor_...</td>\n",
              "      <td>8z6ldEQtRIQ</td>\n",
              "      <td>63</td>\n",
              "      <td>73</td>\n",
              "      <td>[sink, bidet, floor, plumbing, toilet_seat, ou...</td>\n",
              "      <td>23</td>\n",
              "    </tr>\n",
              "  </tbody>\n",
              "</table>\n",
              "</div>\n",
              "      <button class=\"colab-df-convert\" onclick=\"convertToInteractive('df-319be317-9418-4c71-bcca-01c707eb9b06')\"\n",
              "              title=\"Convert this dataframe to an interactive table.\"\n",
              "              style=\"display:none;\">\n",
              "        \n",
              "  <svg xmlns=\"http://www.w3.org/2000/svg\" height=\"24px\"viewBox=\"0 0 24 24\"\n",
              "       width=\"24px\">\n",
              "    <path d=\"M0 0h24v24H0V0z\" fill=\"none\"/>\n",
              "    <path d=\"M18.56 5.44l.94 2.06.94-2.06 2.06-.94-2.06-.94-.94-2.06-.94 2.06-2.06.94zm-11 1L8.5 8.5l.94-2.06 2.06-.94-2.06-.94L8.5 2.5l-.94 2.06-2.06.94zm10 10l.94 2.06.94-2.06 2.06-.94-2.06-.94-.94-2.06-.94 2.06-2.06.94z\"/><path d=\"M17.41 7.96l-1.37-1.37c-.4-.4-.92-.59-1.43-.59-.52 0-1.04.2-1.43.59L10.3 9.45l-7.72 7.72c-.78.78-.78 2.05 0 2.83L4 21.41c.39.39.9.59 1.41.59.51 0 1.02-.2 1.41-.59l7.78-7.78 2.81-2.81c.8-.78.8-2.07 0-2.86zM5.41 20L4 18.59l7.72-7.72 1.47 1.35L5.41 20z\"/>\n",
              "  </svg>\n",
              "      </button>\n",
              "      \n",
              "  <style>\n",
              "    .colab-df-container {\n",
              "      display:flex;\n",
              "      flex-wrap:wrap;\n",
              "      gap: 12px;\n",
              "    }\n",
              "\n",
              "    .colab-df-convert {\n",
              "      background-color: #E8F0FE;\n",
              "      border: none;\n",
              "      border-radius: 50%;\n",
              "      cursor: pointer;\n",
              "      display: none;\n",
              "      fill: #1967D2;\n",
              "      height: 32px;\n",
              "      padding: 0 0 0 0;\n",
              "      width: 32px;\n",
              "    }\n",
              "\n",
              "    .colab-df-convert:hover {\n",
              "      background-color: #E2EBFA;\n",
              "      box-shadow: 0px 1px 2px rgba(60, 64, 67, 0.3), 0px 1px 3px 1px rgba(60, 64, 67, 0.15);\n",
              "      fill: #174EA6;\n",
              "    }\n",
              "\n",
              "    [theme=dark] .colab-df-convert {\n",
              "      background-color: #3B4455;\n",
              "      fill: #D2E3FC;\n",
              "    }\n",
              "\n",
              "    [theme=dark] .colab-df-convert:hover {\n",
              "      background-color: #434B5C;\n",
              "      box-shadow: 0px 1px 3px 1px rgba(0, 0, 0, 0.15);\n",
              "      filter: drop-shadow(0px 1px 2px rgba(0, 0, 0, 0.3));\n",
              "      fill: #FFFFFF;\n",
              "    }\n",
              "  </style>\n",
              "\n",
              "      <script>\n",
              "        const buttonEl =\n",
              "          document.querySelector('#df-319be317-9418-4c71-bcca-01c707eb9b06 button.colab-df-convert');\n",
              "        buttonEl.style.display =\n",
              "          google.colab.kernel.accessAllowed ? 'block' : 'none';\n",
              "\n",
              "        async function convertToInteractive(key) {\n",
              "          const element = document.querySelector('#df-319be317-9418-4c71-bcca-01c707eb9b06');\n",
              "          const dataTable =\n",
              "            await google.colab.kernel.invokeFunction('convertToInteractive',\n",
              "                                                     [key], {});\n",
              "          if (!dataTable) return;\n",
              "\n",
              "          const docLinkHtml = 'Like what you see? Visit the ' +\n",
              "            '<a target=\"_blank\" href=https://colab.research.google.com/notebooks/data_table.ipynb>data table notebook</a>'\n",
              "            + ' to learn more about interactive tables.';\n",
              "          element.innerHTML = '';\n",
              "          dataTable['output_type'] = 'display_data';\n",
              "          await google.colab.output.renderOutput(dataTable, element);\n",
              "          const docLink = document.createElement('div');\n",
              "          docLink.innerHTML = docLinkHtml;\n",
              "          element.appendChild(docLink);\n",
              "        }\n",
              "      </script>\n",
              "    </div>\n",
              "  </div>\n",
              "  "
            ]
          },
          "metadata": {},
          "execution_count": 20
        }
      ]
    },
    {
      "cell_type": "code",
      "source": [
        ""
      ],
      "metadata": {
        "id": "MHH-hnPnHEdF"
      },
      "execution_count": null,
      "outputs": []
    },
    {
      "cell_type": "code",
      "source": [
        "df_a = df_1[['Tags', 'youtube_id', 'link']] #val\n",
        "df_b = df_2[['Tags', 'youtube_id', 'link']] #train"
      ],
      "metadata": {
        "id": "uBNvlcMdm8uz",
        "colab": {
          "base_uri": "https://localhost:8080/",
          "height": 328
        },
        "outputId": "557b90ba-ee48-420b-9135-85e46826afb3"
      },
      "execution_count": null,
      "outputs": [
        {
          "output_type": "error",
          "ename": "KeyError",
          "evalue": "ignored",
          "traceback": [
            "\u001b[0;31m---------------------------------------------------------------------------\u001b[0m",
            "\u001b[0;31mKeyError\u001b[0m                                  Traceback (most recent call last)",
            "\u001b[0;32m<ipython-input-21-f6d3a10e204c>\u001b[0m in \u001b[0;36m<module>\u001b[0;34m()\u001b[0m\n\u001b[0;32m----> 1\u001b[0;31m \u001b[0mdf_a\u001b[0m \u001b[0;34m=\u001b[0m \u001b[0mdf_1\u001b[0m\u001b[0;34m[\u001b[0m\u001b[0;34m[\u001b[0m\u001b[0;34m'Tags'\u001b[0m\u001b[0;34m,\u001b[0m \u001b[0;34m'youtube_id'\u001b[0m\u001b[0;34m,\u001b[0m \u001b[0;34m'link'\u001b[0m\u001b[0;34m]\u001b[0m\u001b[0;34m]\u001b[0m \u001b[0;31m#val\u001b[0m\u001b[0;34m\u001b[0m\u001b[0;34m\u001b[0m\u001b[0m\n\u001b[0m\u001b[1;32m      2\u001b[0m \u001b[0mdf_b\u001b[0m \u001b[0;34m=\u001b[0m \u001b[0mdf_2\u001b[0m\u001b[0;34m[\u001b[0m\u001b[0;34m[\u001b[0m\u001b[0;34m'Tags'\u001b[0m\u001b[0;34m,\u001b[0m \u001b[0;34m'youtube_id'\u001b[0m\u001b[0;34m,\u001b[0m \u001b[0;34m'link'\u001b[0m\u001b[0;34m]\u001b[0m\u001b[0;34m]\u001b[0m \u001b[0;31m#train\u001b[0m\u001b[0;34m\u001b[0m\u001b[0;34m\u001b[0m\u001b[0m\n",
            "\u001b[0;32m/usr/local/lib/python3.7/dist-packages/pandas/core/frame.py\u001b[0m in \u001b[0;36m__getitem__\u001b[0;34m(self, key)\u001b[0m\n\u001b[1;32m   3462\u001b[0m             \u001b[0;32mif\u001b[0m \u001b[0mis_iterator\u001b[0m\u001b[0;34m(\u001b[0m\u001b[0mkey\u001b[0m\u001b[0;34m)\u001b[0m\u001b[0;34m:\u001b[0m\u001b[0;34m\u001b[0m\u001b[0;34m\u001b[0m\u001b[0m\n\u001b[1;32m   3463\u001b[0m                 \u001b[0mkey\u001b[0m \u001b[0;34m=\u001b[0m \u001b[0mlist\u001b[0m\u001b[0;34m(\u001b[0m\u001b[0mkey\u001b[0m\u001b[0;34m)\u001b[0m\u001b[0;34m\u001b[0m\u001b[0;34m\u001b[0m\u001b[0m\n\u001b[0;32m-> 3464\u001b[0;31m             \u001b[0mindexer\u001b[0m \u001b[0;34m=\u001b[0m \u001b[0mself\u001b[0m\u001b[0;34m.\u001b[0m\u001b[0mloc\u001b[0m\u001b[0;34m.\u001b[0m\u001b[0m_get_listlike_indexer\u001b[0m\u001b[0;34m(\u001b[0m\u001b[0mkey\u001b[0m\u001b[0;34m,\u001b[0m \u001b[0maxis\u001b[0m\u001b[0;34m=\u001b[0m\u001b[0;36m1\u001b[0m\u001b[0;34m)\u001b[0m\u001b[0;34m[\u001b[0m\u001b[0;36m1\u001b[0m\u001b[0;34m]\u001b[0m\u001b[0;34m\u001b[0m\u001b[0;34m\u001b[0m\u001b[0m\n\u001b[0m\u001b[1;32m   3465\u001b[0m \u001b[0;34m\u001b[0m\u001b[0m\n\u001b[1;32m   3466\u001b[0m         \u001b[0;31m# take() does not accept boolean indexers\u001b[0m\u001b[0;34m\u001b[0m\u001b[0;34m\u001b[0m\u001b[0;34m\u001b[0m\u001b[0m\n",
            "\u001b[0;32m/usr/local/lib/python3.7/dist-packages/pandas/core/indexing.py\u001b[0m in \u001b[0;36m_get_listlike_indexer\u001b[0;34m(self, key, axis)\u001b[0m\n\u001b[1;32m   1312\u001b[0m             \u001b[0mkeyarr\u001b[0m\u001b[0;34m,\u001b[0m \u001b[0mindexer\u001b[0m\u001b[0;34m,\u001b[0m \u001b[0mnew_indexer\u001b[0m \u001b[0;34m=\u001b[0m \u001b[0max\u001b[0m\u001b[0;34m.\u001b[0m\u001b[0m_reindex_non_unique\u001b[0m\u001b[0;34m(\u001b[0m\u001b[0mkeyarr\u001b[0m\u001b[0;34m)\u001b[0m\u001b[0;34m\u001b[0m\u001b[0;34m\u001b[0m\u001b[0m\n\u001b[1;32m   1313\u001b[0m \u001b[0;34m\u001b[0m\u001b[0m\n\u001b[0;32m-> 1314\u001b[0;31m         \u001b[0mself\u001b[0m\u001b[0;34m.\u001b[0m\u001b[0m_validate_read_indexer\u001b[0m\u001b[0;34m(\u001b[0m\u001b[0mkeyarr\u001b[0m\u001b[0;34m,\u001b[0m \u001b[0mindexer\u001b[0m\u001b[0;34m,\u001b[0m \u001b[0maxis\u001b[0m\u001b[0;34m)\u001b[0m\u001b[0;34m\u001b[0m\u001b[0;34m\u001b[0m\u001b[0m\n\u001b[0m\u001b[1;32m   1315\u001b[0m \u001b[0;34m\u001b[0m\u001b[0m\n\u001b[1;32m   1316\u001b[0m         if needs_i8_conversion(ax.dtype) or isinstance(\n",
            "\u001b[0;32m/usr/local/lib/python3.7/dist-packages/pandas/core/indexing.py\u001b[0m in \u001b[0;36m_validate_read_indexer\u001b[0;34m(self, key, indexer, axis)\u001b[0m\n\u001b[1;32m   1375\u001b[0m \u001b[0;34m\u001b[0m\u001b[0m\n\u001b[1;32m   1376\u001b[0m             \u001b[0mnot_found\u001b[0m \u001b[0;34m=\u001b[0m \u001b[0mlist\u001b[0m\u001b[0;34m(\u001b[0m\u001b[0mensure_index\u001b[0m\u001b[0;34m(\u001b[0m\u001b[0mkey\u001b[0m\u001b[0;34m)\u001b[0m\u001b[0;34m[\u001b[0m\u001b[0mmissing_mask\u001b[0m\u001b[0;34m.\u001b[0m\u001b[0mnonzero\u001b[0m\u001b[0;34m(\u001b[0m\u001b[0;34m)\u001b[0m\u001b[0;34m[\u001b[0m\u001b[0;36m0\u001b[0m\u001b[0;34m]\u001b[0m\u001b[0;34m]\u001b[0m\u001b[0;34m.\u001b[0m\u001b[0munique\u001b[0m\u001b[0;34m(\u001b[0m\u001b[0;34m)\u001b[0m\u001b[0;34m)\u001b[0m\u001b[0;34m\u001b[0m\u001b[0;34m\u001b[0m\u001b[0m\n\u001b[0;32m-> 1377\u001b[0;31m             \u001b[0;32mraise\u001b[0m \u001b[0mKeyError\u001b[0m\u001b[0;34m(\u001b[0m\u001b[0;34mf\"{not_found} not in index\"\u001b[0m\u001b[0;34m)\u001b[0m\u001b[0;34m\u001b[0m\u001b[0;34m\u001b[0m\u001b[0m\n\u001b[0m\u001b[1;32m   1378\u001b[0m \u001b[0;34m\u001b[0m\u001b[0m\n\u001b[1;32m   1379\u001b[0m \u001b[0;34m\u001b[0m\u001b[0m\n",
            "\u001b[0;31mKeyError\u001b[0m: \"['link'] not in index\""
          ]
        }
      ]
    },
    {
      "cell_type": "code",
      "source": [
        "df_train_head = df_b.head(10000)"
      ],
      "metadata": {
        "id": "PDBWbe5SF2W3",
        "colab": {
          "base_uri": "https://localhost:8080/",
          "height": 165
        },
        "outputId": "c40f996b-c5dc-4420-f123-33d7377ba508"
      },
      "execution_count": null,
      "outputs": [
        {
          "output_type": "error",
          "ename": "NameError",
          "evalue": "ignored",
          "traceback": [
            "\u001b[0;31m---------------------------------------------------------------------------\u001b[0m",
            "\u001b[0;31mNameError\u001b[0m                                 Traceback (most recent call last)",
            "\u001b[0;32m<ipython-input-22-4698530c5696>\u001b[0m in \u001b[0;36m<module>\u001b[0;34m()\u001b[0m\n\u001b[0;32m----> 1\u001b[0;31m \u001b[0mdf_train_head\u001b[0m \u001b[0;34m=\u001b[0m \u001b[0mdf_b\u001b[0m\u001b[0;34m.\u001b[0m\u001b[0mhead\u001b[0m\u001b[0;34m(\u001b[0m\u001b[0;36m10000\u001b[0m\u001b[0;34m)\u001b[0m\u001b[0;34m\u001b[0m\u001b[0;34m\u001b[0m\u001b[0m\n\u001b[0m",
            "\u001b[0;31mNameError\u001b[0m: name 'df_b' is not defined"
          ]
        }
      ]
    },
    {
      "cell_type": "code",
      "source": [
        "df_train_head.head(2)"
      ],
      "metadata": {
        "colab": {
          "base_uri": "https://localhost:8080/",
          "height": 165
        },
        "id": "f23bSr1TGDVY",
        "outputId": "adeb5d57-d5d0-46a0-b8ba-5d2b665337a6"
      },
      "execution_count": null,
      "outputs": [
        {
          "output_type": "error",
          "ename": "NameError",
          "evalue": "ignored",
          "traceback": [
            "\u001b[0;31m---------------------------------------------------------------------------\u001b[0m",
            "\u001b[0;31mNameError\u001b[0m                                 Traceback (most recent call last)",
            "\u001b[0;32m<ipython-input-23-f32287e0686d>\u001b[0m in \u001b[0;36m<module>\u001b[0;34m()\u001b[0m\n\u001b[0;32m----> 1\u001b[0;31m \u001b[0mdf_train_head\u001b[0m\u001b[0;34m.\u001b[0m\u001b[0mhead\u001b[0m\u001b[0;34m(\u001b[0m\u001b[0;36m2\u001b[0m\u001b[0;34m)\u001b[0m\u001b[0;34m\u001b[0m\u001b[0;34m\u001b[0m\u001b[0m\n\u001b[0m",
            "\u001b[0;31mNameError\u001b[0m: name 'df_train_head' is not defined"
          ]
        }
      ]
    },
    {
      "cell_type": "code",
      "source": [
        "# output_filename = \"train_data_10000\"\n",
        "# # output_filename = \"val_data\"\n",
        "# df_train_head.to_csv(output_filename)\n",
        "# from google.colab import files\n",
        "# files.download(output_filename)"
      ],
      "metadata": {
        "id": "1O6_UJj9m8yM"
      },
      "execution_count": null,
      "outputs": []
    },
    {
      "cell_type": "code",
      "source": [
        "for i in range(0, 10000):\n",
        "  df_train_head.replace(df_train_head['link'].iloc[i], \"/content/drive/Shareddrives/project519/videos/\"+str(i)+\".f278.webm\")"
      ],
      "metadata": {
        "id": "Ta6YzQEaHRn1",
        "colab": {
          "base_uri": "https://localhost:8080/",
          "height": 182
        },
        "outputId": "7bbcab67-bbcb-4856-fdcd-10eb1f35252c"
      },
      "execution_count": null,
      "outputs": [
        {
          "output_type": "error",
          "ename": "NameError",
          "evalue": "ignored",
          "traceback": [
            "\u001b[0;31m---------------------------------------------------------------------------\u001b[0m",
            "\u001b[0;31mNameError\u001b[0m                                 Traceback (most recent call last)",
            "\u001b[0;32m<ipython-input-25-3fa7458a8569>\u001b[0m in \u001b[0;36m<module>\u001b[0;34m()\u001b[0m\n\u001b[1;32m      1\u001b[0m \u001b[0;32mfor\u001b[0m \u001b[0mi\u001b[0m \u001b[0;32min\u001b[0m \u001b[0mrange\u001b[0m\u001b[0;34m(\u001b[0m\u001b[0;36m0\u001b[0m\u001b[0;34m,\u001b[0m \u001b[0;36m10000\u001b[0m\u001b[0;34m)\u001b[0m\u001b[0;34m:\u001b[0m\u001b[0;34m\u001b[0m\u001b[0;34m\u001b[0m\u001b[0m\n\u001b[0;32m----> 2\u001b[0;31m   \u001b[0mdf_train_head\u001b[0m\u001b[0;34m.\u001b[0m\u001b[0mreplace\u001b[0m\u001b[0;34m(\u001b[0m\u001b[0mdf_train_head\u001b[0m\u001b[0;34m[\u001b[0m\u001b[0;34m'link'\u001b[0m\u001b[0;34m]\u001b[0m\u001b[0;34m.\u001b[0m\u001b[0miloc\u001b[0m\u001b[0;34m[\u001b[0m\u001b[0mi\u001b[0m\u001b[0;34m]\u001b[0m\u001b[0;34m,\u001b[0m \u001b[0;34m\"/content/drive/Shareddrives/project519/videos/\"\u001b[0m\u001b[0;34m+\u001b[0m\u001b[0mstr\u001b[0m\u001b[0;34m(\u001b[0m\u001b[0mi\u001b[0m\u001b[0;34m)\u001b[0m\u001b[0;34m+\u001b[0m\u001b[0;34m\".f278.webm\"\u001b[0m\u001b[0;34m)\u001b[0m\u001b[0;34m\u001b[0m\u001b[0;34m\u001b[0m\u001b[0m\n\u001b[0m",
            "\u001b[0;31mNameError\u001b[0m: name 'df_train_head' is not defined"
          ]
        }
      ]
    },
    {
      "cell_type": "code",
      "source": [
        "df_train_head['link'].iloc[0]"
      ],
      "metadata": {
        "colab": {
          "base_uri": "https://localhost:8080/",
          "height": 165
        },
        "id": "-FZwMg01IDfk",
        "outputId": "0e8f2f39-6a36-4ee5-fc1d-89d9d8ea82b3"
      },
      "execution_count": null,
      "outputs": [
        {
          "output_type": "error",
          "ename": "NameError",
          "evalue": "ignored",
          "traceback": [
            "\u001b[0;31m---------------------------------------------------------------------------\u001b[0m",
            "\u001b[0;31mNameError\u001b[0m                                 Traceback (most recent call last)",
            "\u001b[0;32m<ipython-input-26-0174fd735f98>\u001b[0m in \u001b[0;36m<module>\u001b[0;34m()\u001b[0m\n\u001b[0;32m----> 1\u001b[0;31m \u001b[0mdf_train_head\u001b[0m\u001b[0;34m[\u001b[0m\u001b[0;34m'link'\u001b[0m\u001b[0;34m]\u001b[0m\u001b[0;34m.\u001b[0m\u001b[0miloc\u001b[0m\u001b[0;34m[\u001b[0m\u001b[0;36m0\u001b[0m\u001b[0;34m]\u001b[0m\u001b[0;34m\u001b[0m\u001b[0;34m\u001b[0m\u001b[0m\n\u001b[0m",
            "\u001b[0;31mNameError\u001b[0m: name 'df_train_head' is not defined"
          ]
        }
      ]
    },
    {
      "cell_type": "code",
      "source": [
        "df_head = df_train_head[['Tags', 'youtube_id']]\n"
      ],
      "metadata": {
        "id": "o0Gxnp11MJXs",
        "colab": {
          "base_uri": "https://localhost:8080/",
          "height": 165
        },
        "outputId": "cfd0aa7d-0243-4747-cb14-a75213e20268"
      },
      "execution_count": null,
      "outputs": [
        {
          "output_type": "error",
          "ename": "NameError",
          "evalue": "ignored",
          "traceback": [
            "\u001b[0;31m---------------------------------------------------------------------------\u001b[0m",
            "\u001b[0;31mNameError\u001b[0m                                 Traceback (most recent call last)",
            "\u001b[0;32m<ipython-input-27-65d60b179224>\u001b[0m in \u001b[0;36m<module>\u001b[0;34m()\u001b[0m\n\u001b[0;32m----> 1\u001b[0;31m \u001b[0mdf_head\u001b[0m \u001b[0;34m=\u001b[0m \u001b[0mdf_train_head\u001b[0m\u001b[0;34m[\u001b[0m\u001b[0;34m[\u001b[0m\u001b[0;34m'Tags'\u001b[0m\u001b[0;34m,\u001b[0m \u001b[0;34m'youtube_id'\u001b[0m\u001b[0;34m]\u001b[0m\u001b[0;34m]\u001b[0m\u001b[0;34m\u001b[0m\u001b[0;34m\u001b[0m\u001b[0m\n\u001b[0m",
            "\u001b[0;31mNameError\u001b[0m: name 'df_train_head' is not defined"
          ]
        }
      ]
    },
    {
      "cell_type": "code",
      "source": [
        "ll = []"
      ],
      "metadata": {
        "id": "W38eYdzSNYDx"
      },
      "execution_count": null,
      "outputs": []
    },
    {
      "cell_type": "code",
      "source": [
        "for i in range (0, 10000):\n",
        "  ll.append(\"/content/drive/Shareddrives/project519/videos/\"+str(i)+\".f278.webm\")"
      ],
      "metadata": {
        "id": "Hnm9EMNuMXY6"
      },
      "execution_count": null,
      "outputs": []
    },
    {
      "cell_type": "code",
      "source": [
        "dfs = df_head.assign(link =ll)"
      ],
      "metadata": {
        "id": "Q-nevzpdNcX6",
        "colab": {
          "base_uri": "https://localhost:8080/",
          "height": 165
        },
        "outputId": "b06e5646-24f3-48b1-e871-627a5c4201b5"
      },
      "execution_count": null,
      "outputs": [
        {
          "output_type": "error",
          "ename": "NameError",
          "evalue": "ignored",
          "traceback": [
            "\u001b[0;31m---------------------------------------------------------------------------\u001b[0m",
            "\u001b[0;31mNameError\u001b[0m                                 Traceback (most recent call last)",
            "\u001b[0;32m<ipython-input-32-352112158385>\u001b[0m in \u001b[0;36m<module>\u001b[0;34m()\u001b[0m\n\u001b[0;32m----> 1\u001b[0;31m \u001b[0mdfs\u001b[0m \u001b[0;34m=\u001b[0m \u001b[0mdf_head\u001b[0m\u001b[0;34m.\u001b[0m\u001b[0massign\u001b[0m\u001b[0;34m(\u001b[0m\u001b[0mlink\u001b[0m \u001b[0;34m=\u001b[0m\u001b[0mll\u001b[0m\u001b[0;34m)\u001b[0m\u001b[0;34m\u001b[0m\u001b[0;34m\u001b[0m\u001b[0m\n\u001b[0m",
            "\u001b[0;31mNameError\u001b[0m: name 'df_head' is not defined"
          ]
        }
      ]
    },
    {
      "cell_type": "code",
      "source": [
        "# output_filename = \"train_data_10000\"\n",
        "# dfs.to_csv(output_filename)\n",
        "# from google.colab import files\n",
        "# files.download(output_filename)"
      ],
      "metadata": {
        "id": "ntiBZYaXNv52"
      },
      "execution_count": null,
      "outputs": []
    },
    {
      "cell_type": "code",
      "source": [
        "\"\"\"\n",
        "import pandas as pd\n",
        "\n",
        "df = pd.read_csv('/content/drive/Shared drives/project519/CSVs/train_data_10000.csv')\n",
        "df.head(5)\n",
        "\n",
        "for iter in range(0, 10000):\n",
        "  try:\n",
        "    temp_link = df['link'].iloc[iter]\n",
        "    cap = cv2.VideoCapture(temp_link)\n",
        "    fps = int(cap.get(cv2.CAP_PROP_FPS))\n",
        "    frame_count = int(cap.get(cv2.CAP_PROP_FRAME_COUNT))\n",
        "\n",
        "    for i in range(int(frame_count/fps)):\n",
        "      arr_frame=[]\n",
        "      arr_lap=[]\n",
        "      for j in range(fps):\n",
        "        success, frame = cap.read()\n",
        "        laplacian = cv2.Laplacian(frame, cv2.CV_64F).var()\n",
        "        arr_lap.append(laplacian)\n",
        "        arr_frame.append(frame)\n",
        "      selected_frame = arr_frame[arr_lap.index(max(arr_lap))]\n",
        "      cv2.imwrite(f\"{i}.jpg\", selected_frame)\n",
        "\n",
        "      \"\"\"\n",
        "\n",
        "      #Whatever you add, add in this try block, this loop works for each link, copy pasting the rest of the code should work. I will add the code for df later in the project report. First test for 10 videos or something, then we can do 10000\n",
        "\n",
        "      \"\"\"\n",
        "\n",
        "\n",
        "  except:\n",
        "    pass\n",
        "\"\"\""
      ],
      "metadata": {
        "id": "AOpABhFYYN2U"
      },
      "execution_count": null,
      "outputs": []
    }
  ]
}